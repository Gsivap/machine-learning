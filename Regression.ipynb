{
 "cells": [
  {
   "cell_type": "code",
   "execution_count": 249,
   "metadata": {
    "collapsed": false
   },
   "outputs": [
    {
     "data": {
      "text/plain": [
       "('datasets/mpg.data', <http.client.HTTPMessage at 0x7f1701b1a940>)"
      ]
     },
     "execution_count": 249,
     "metadata": {},
     "output_type": "execute_result"
    }
   ],
   "source": [
    "from six.moves import urllib\n",
    "import numpy as np\n",
    "urllib.request.urlretrieve('https://archive.ics.uci.edu/ml/machine-learning-databases/auto-mpg/auto-mpg.data','datasets/mpg.data')"
   ]
  },
  {
   "cell_type": "code",
   "execution_count": 250,
   "metadata": {
    "collapsed": false
   },
   "outputs": [],
   "source": [
    "import pandas as pd\n",
    "df = pd.read_table('datasets/mpg.data',delim_whitespace = True ,header = None)\n",
    "df.columns = ['mpg','cylinder','displacement','horsepower','weight','acceleration','year','origin','carname']"
   ]
  },
  {
   "cell_type": "code",
   "execution_count": 251,
   "metadata": {
    "collapsed": false
   },
   "outputs": [
    {
     "name": "stderr",
     "output_type": "stream",
     "text": [
      "/home/siva/anaconda3/lib/python3.5/site-packages/ipykernel/__main__.py:2: SettingWithCopyWarning: \n",
      "A value is trying to be set on a copy of a slice from a DataFrame.\n",
      "Try using .loc[row_indexer,col_indexer] = value instead\n",
      "\n",
      "See the caveats in the documentation: http://pandas.pydata.org/pandas-docs/stable/indexing.html#indexing-view-versus-copy\n",
      "  from ipykernel import kernelapp as app\n"
     ]
    }
   ],
   "source": [
    "data = df.loc[~(df['horsepower']== '?')]\n",
    "data['horsepower'] = data['horsepower'].apply(pd.to_numeric)\n",
    "data = data.iloc[:,:8]\n"
   ]
  },
  {
   "cell_type": "code",
   "execution_count": 252,
   "metadata": {
    "collapsed": false
   },
   "outputs": [],
   "source": [
    "from sklearn.model_selection import train_test_split\n",
    "\n",
    "x_train,x_test,y_train,y_test = train_test_split(data.iloc[:,1:],data.iloc[:,1],test_size = 0.2,random_state = 42)\n"
   ]
  },
  {
   "cell_type": "code",
   "execution_count": 253,
   "metadata": {
    "collapsed": false
   },
   "outputs": [],
   "source": [
    "from sklearn.base import BaseEstimator, TransformerMixin\n",
    "\n",
    "class Attributeselector(BaseEstimator, TransformerMixin):\n",
    "        def __init__(self,attributes):\n",
    "            self.attributes = attributes\n",
    "        def fit(self,X):\n",
    "            return self\n",
    "        def transform(self,X):\n",
    "            return X[self.attributes].values"
   ]
  },
  {
   "cell_type": "code",
   "execution_count": 254,
   "metadata": {
    "collapsed": false
   },
   "outputs": [],
   "source": [
    "num_attributes = ['displacement','horsepower','weight','acceleration']\n",
    "cat_attributes = ['cylinder','year','origin']\n"
   ]
  },
  {
   "cell_type": "code",
   "execution_count": 255,
   "metadata": {
    "collapsed": false
   },
   "outputs": [],
   "source": [
    "from sklearn.pipeline import Pipeline,FeatureUnion\n",
    "from sklearn.preprocessing import StandardScaler\n",
    "\n",
    "num_pipeline = Pipeline([\n",
    "                            ('select',Attributeselector(num_attributes)),\n",
    "                            \n",
    "                            ('scaler',StandardScaler()),\n",
    "                        ])\n",
    "\n",
    "\n",
    "\n"
   ]
  },
  {
   "cell_type": "code",
   "execution_count": 256,
   "metadata": {
    "collapsed": false
   },
   "outputs": [],
   "source": [
    "cat_pipeline = Pipeline([\n",
    "        \n",
    "                            ('select',Attributeselector(cat_attributes)),\n",
    "                        ])\n",
    "\n"
   ]
  },
  {
   "cell_type": "code",
   "execution_count": 257,
   "metadata": {
    "collapsed": false
   },
   "outputs": [],
   "source": [
    "\n",
    "\n",
    "combined_pipeline = FeatureUnion( transformer_list = [\n",
    "                                    ('num',num_pipeline),\n",
    "        \n",
    "                                    ('cat',cat_pipeline),\n",
    "                                ])"
   ]
  },
  {
   "cell_type": "code",
   "execution_count": 258,
   "metadata": {
    "collapsed": false
   },
   "outputs": [],
   "source": [
    "processed_train = combined_pipeline.fit_transform(x_train)\n",
    "\n",
    "processed_test = combined_pipeline.fit_transform(x_test)\n"
   ]
  },
  {
   "cell_type": "code",
   "execution_count": 259,
   "metadata": {
    "collapsed": false
   },
   "outputs": [
    {
     "data": {
      "text/plain": [
       "LinearRegression(copy_X=True, fit_intercept=True, n_jobs=1, normalize=False)"
      ]
     },
     "execution_count": 259,
     "metadata": {},
     "output_type": "execute_result"
    }
   ],
   "source": [
    "from sklearn.linear_model import LinearRegression\n",
    "\n",
    "lr = LinearRegression()\n",
    "lr.fit(processed_train,y_train)"
   ]
  },
  {
   "cell_type": "code",
   "execution_count": 260,
   "metadata": {
    "collapsed": false
   },
   "outputs": [
    {
     "name": "stdout",
     "output_type": "stream",
     "text": [
      "predictions:\t [ 8.  6.  8.  4.  6.  4.  6.  4.  4.  4.  6.  4.  4.  8.  4.  4.  4.  6.\n",
      "  4.  4.]\n",
      "labels:\t [8, 6, 8, 4, 6, 4, 6, 4, 4, 4, 6, 4, 4, 8, 4, 4, 4, 6, 4, 4]\n"
     ]
    }
   ],
   "source": [
    "from sklearn.metrics import mean_squared_error\n",
    "\n",
    "predictions = lr.predict(processed_test)\n",
    "error = mean_squared_error(predictions,y_test)\n",
    "RMSE = np.sqrt(error)\n",
    "print(\"predictions:\\t\",predictions[10:30])\n",
    "print(\"labels:\\t\",list(y_test[10:30]))"
   ]
  },
  {
   "cell_type": "code",
   "execution_count": null,
   "metadata": {
    "collapsed": true
   },
   "outputs": [],
   "source": []
  }
 ],
 "metadata": {
  "anaconda-cloud": {},
  "kernelspec": {
   "display_name": "Python [Root]",
   "language": "python",
   "name": "Python [Root]"
  },
  "language_info": {
   "codemirror_mode": {
    "name": "ipython",
    "version": 3
   },
   "file_extension": ".py",
   "mimetype": "text/x-python",
   "name": "python",
   "nbconvert_exporter": "python",
   "pygments_lexer": "ipython3",
   "version": "3.5.2"
  }
 },
 "nbformat": 4,
 "nbformat_minor": 0
}
