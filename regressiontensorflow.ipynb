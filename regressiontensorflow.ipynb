{
 "cells": [
  {
   "cell_type": "markdown",
   "metadata": {},
   "source": [
    "Linear Regression using gradient descent. \n",
    "\n",
    "DataSet used is California Housing Data.\n",
    "\n"
   ]
  },
  {
   "cell_type": "code",
   "execution_count": 18,
   "metadata": {
    "collapsed": false
   },
   "outputs": [
    {
     "name": "stdout",
     "output_type": "stream",
     "text": [
      "preprocessing_data!!!!\n"
     ]
    }
   ],
   "source": [
    "import tensorflow as tf\n",
    "import numpy as np\n",
    "from sklearn import preprocessing\n",
    "from sklearn.model_selection import train_test_split\n",
    "from sklearn.datasets import fetch_california_housing\n",
    "import matplotlib.pyplot as plt\n",
    "from datetime import datetime\n",
    "\n",
    "#for writing summary\n",
    "now = datetime.utcnow().strftime(\"%Y%m%d%H%M\")\n",
    "root_logdir = \"tf_logs\"\n",
    "logdir = \"{}/run-{}/\".format(root_logdir,now)\n",
    "\n",
    "\n",
    "\n",
    "epochs = 2000\n",
    "learning_rate = 0.01\n",
    "\n",
    "housing = fetch_california_housing()\n",
    "data = housing.data\n",
    "\n",
    "#preprocessing the data. Subtracting means and scaling. Adding a column of ones for theta_0\n",
    "scaler = preprocessing.StandardScaler()\n",
    "data = scaler.fit_transform(data)\n",
    "n,n_features = np.shape(data)\n",
    "data = np.concatenate((np.ones((n,1)),data),axis = 1)\n",
    "target_values = housing.target.reshape(-1,1)\n",
    "\n",
    "#split the data into training and testing \n",
    "x_train,x_test,y_train,y_test= train_test_split(data,target_values,test_size = 0.3, random_state = 0)\n",
    "\n",
    "print(\"preprocessing_data!!!!\")\n",
    "x_train = tf.constant(x_train,dtype = tf.float32)\n",
    "y_train = tf.constant(y_train,dtype = tf.float32)\n",
    "theta = tf.Variable(tf.random_uniform([n_features + 1,1],-1,1),dtype = tf.float32)\n",
    "pred = tf.matmul(x_train,theta)\n",
    "error = pred - y_train\n",
    "MSE = tf.reduce_mean(tf.square(error))\n",
    "\n",
    "MSE_summmary = tf.summary.scalar('MSE',MSE)\n",
    "\n",
    "\n",
    "optimizer = tf.train.GradientDescentOptimizer(learning_rate = learning_rate)\n",
    "training = optimizer.minimize(MSE)\n",
    "\n",
    "writer = tf.summary.FileWriter(logdir,tf.get_default_graph())"
   ]
  },
  {
   "cell_type": "code",
   "execution_count": 19,
   "metadata": {
    "collapsed": false
   },
   "outputs": [
    {
     "name": "stdout",
     "output_type": "stream",
     "text": [
      "Training___started!!!!\n"
     ]
    }
   ],
   "source": [
    "\n",
    "print(\"Training___started!!!!\")\n",
    "with tf.Session() as sess:\n",
    "    \n",
    "    sess.run(tf.global_variables_initializer())\n",
    "    \n",
    "    for i in range(epochs):\n",
    "        sess.run(training)\n",
    "        if (i % 100 == 0):\n",
    "            summary = MSE_summmary.eval()\n",
    "            writer.add_summary(summary,i)\n",
    "    theta_trained = np.asarray(theta.eval())\n",
    "    writer.close() "
   ]
  },
  {
   "cell_type": "code",
   "execution_count": 75,
   "metadata": {
    "collapsed": false
   },
   "outputs": [
    {
     "name": "stdout",
     "output_type": "stream",
     "text": [
      "0.543898936517\n"
     ]
    }
   ],
   "source": [
    "pred_test = np.dot(x_test,theta_trained)\n",
    "error_pred = pred_test - y_test\n",
    "MSE_pred = tf.reduce_mean(tf.square(error_pred))\n",
    "with tf.Session() as sess:\n",
    "    MSE_pred = MSE_pred.eval()\n",
    "print(MSE_pred)\n",
    "\n"
   ]
  },
  {
   "cell_type": "code",
   "execution_count": 8,
   "metadata": {
    "collapsed": false
   },
   "outputs": [
    {
     "name": "stdout",
     "output_type": "stream",
     "text": [
      "201705230712\n"
     ]
    }
   ],
   "source": [
    "from datetime import datetime\n",
    "\n",
    "now = datetime.utcnow().strftime(\"%Y%m%d%H%M\")\n",
    "print(now)"
   ]
  },
  {
   "cell_type": "code",
   "execution_count": null,
   "metadata": {
    "collapsed": true
   },
   "outputs": [],
   "source": []
  }
 ],
 "metadata": {
  "anaconda-cloud": {},
  "kernelspec": {
   "display_name": "Python [Root]",
   "language": "python",
   "name": "Python [Root]"
  },
  "language_info": {
   "codemirror_mode": {
    "name": "ipython",
    "version": 3
   },
   "file_extension": ".py",
   "mimetype": "text/x-python",
   "name": "python",
   "nbconvert_exporter": "python",
   "pygments_lexer": "ipython3",
   "version": "3.5.2"
  }
 },
 "nbformat": 4,
 "nbformat_minor": 0
}
