{
 "cells": [
  {
   "cell_type": "markdown",
   "metadata": {
    "collapsed": false
   },
   "source": [
    "Using Keras to build,train and test a neural network.\n",
    "MNIST data was obtained as a csv file from : https://pjreddie.com/projects/mnist-in-csv/"
   ]
  },
  {
   "cell_type": "code",
   "execution_count": 1,
   "metadata": {
    "collapsed": false
   },
   "outputs": [
    {
     "name": "stderr",
     "output_type": "stream",
     "text": [
      "Using TensorFlow backend.\n"
     ]
    }
   ],
   "source": [
    "import pandas as pd\n",
    "import numpy as np\n",
    "import keras\n",
    "\n",
    "#first we load the training and testing data from the csv file using pandas\n",
    "\n",
    "#train data\n",
    "df = pd.read_csv('mnist_train.csv',header = None)\n",
    "train_data = df.iloc[:,1:].values\n",
    "train_data= np.reshape(train_data,(60000,784))\n",
    "train_label = df.iloc[:,0].values\n",
    "#converting the label to one hot vector\n",
    "\n",
    "train_label = keras.utils.to_categorical(train_label,num_classes = 10)\n",
    "\n",
    "#test data\n",
    "df = pd.read_csv('mnist_test.csv',header = None)\n",
    "test_data = df.iloc[:,1:].values\n",
    "test_data = np.reshape(test_data,(10000,784))\n",
    "test_label= df.iloc[:,0].values\n",
    "test_label = keras.utils.to_categorical(test_label,num_classes = 10)\n"
   ]
  },
  {
   "cell_type": "code",
   "execution_count": 4,
   "metadata": {
    "collapsed": false
   },
   "outputs": [
    {
     "name": "stdout",
     "output_type": "stream",
     "text": [
      "Epoch 1/30\n",
      "60000/60000 [==============================] - 7s - loss: 0.0430 - acc: 0.7343     \n",
      "Epoch 2/30\n",
      "60000/60000 [==============================] - 7s - loss: 0.0256 - acc: 0.8491     \n",
      "Epoch 3/30\n",
      "60000/60000 [==============================] - 7s - loss: 0.0221 - acc: 0.8644     \n",
      "Epoch 4/30\n",
      "60000/60000 [==============================] - 6s - loss: 0.0217 - acc: 0.8645     \n",
      "Epoch 5/30\n",
      "60000/60000 [==============================] - 7s - loss: 0.0203 - acc: 0.8705     \n",
      "Epoch 6/30\n",
      "60000/60000 [==============================] - 7s - loss: 0.0190 - acc: 0.8788     \n",
      "Epoch 7/30\n",
      "60000/60000 [==============================] - 6s - loss: 0.0188 - acc: 0.8788     \n",
      "Epoch 8/30\n",
      "60000/60000 [==============================] - 6s - loss: 0.0181 - acc: 0.8827     \n",
      "Epoch 9/30\n",
      "60000/60000 [==============================] - 7s - loss: 0.0183 - acc: 0.8809     \n",
      "Epoch 10/30\n",
      "60000/60000 [==============================] - 6s - loss: 0.0176 - acc: 0.8862     \n",
      "Epoch 11/30\n",
      "60000/60000 [==============================] - 6s - loss: 0.0174 - acc: 0.8867     \n",
      "Epoch 12/30\n",
      "60000/60000 [==============================] - 6s - loss: 0.0170 - acc: 0.8881     \n",
      "Epoch 13/30\n",
      "60000/60000 [==============================] - 6s - loss: 0.0166 - acc: 0.8921     \n",
      "Epoch 14/30\n",
      "60000/60000 [==============================] - 7s - loss: 0.0169 - acc: 0.8888     \n",
      "Epoch 15/30\n",
      "60000/60000 [==============================] - 7s - loss: 0.0161 - acc: 0.8944     \n",
      "Epoch 16/30\n",
      "60000/60000 [==============================] - 6s - loss: 0.0165 - acc: 0.8915     \n",
      "Epoch 17/30\n",
      "60000/60000 [==============================] - 6s - loss: 0.0156 - acc: 0.8965     \n",
      "Epoch 18/30\n",
      "60000/60000 [==============================] - 7s - loss: 0.0152 - acc: 0.9007     \n",
      "Epoch 19/30\n",
      "60000/60000 [==============================] - 6s - loss: 0.0155 - acc: 0.8985     \n",
      "Epoch 20/30\n",
      "60000/60000 [==============================] - 7s - loss: 0.0149 - acc: 0.9018     \n",
      "Epoch 21/30\n",
      "60000/60000 [==============================] - 7s - loss: 0.0150 - acc: 0.9016     \n",
      "Epoch 22/30\n",
      "60000/60000 [==============================] - 7s - loss: 0.0153 - acc: 0.8987     \n",
      "Epoch 23/30\n",
      "60000/60000 [==============================] - 7s - loss: 0.0149 - acc: 0.9023     \n",
      "Epoch 24/30\n",
      "60000/60000 [==============================] - 7s - loss: 0.0151 - acc: 0.9006     \n",
      "Epoch 25/30\n",
      "60000/60000 [==============================] - 7s - loss: 0.0150 - acc: 0.9017     \n",
      "Epoch 26/30\n",
      "60000/60000 [==============================] - 7s - loss: 0.0150 - acc: 0.9014     \n",
      "Epoch 27/30\n",
      "60000/60000 [==============================] - 7s - loss: 0.0151 - acc: 0.9012     \n",
      "Epoch 28/30\n",
      "60000/60000 [==============================] - 7s - loss: 0.0148 - acc: 0.9019     \n",
      "Epoch 29/30\n",
      "60000/60000 [==============================] - 7s - loss: 0.0144 - acc: 0.9047     \n",
      "Epoch 30/30\n",
      "60000/60000 [==============================] - 7s - loss: 0.0138 - acc: 0.9087     \n"
     ]
    }
   ],
   "source": [
    "from keras.models import Sequential\n",
    "from keras.layers import Dense,Activation\n",
    "from keras.optimizers import SGD\n",
    "\n",
    "#form the network with configuration 784,32,10\n",
    "mynet = Sequential()\n",
    "mynet.add(Dense(32, input_shape = (784,)))\n",
    "mynet.add(Activation('sigmoid'))\n",
    "mynet.add(Dense(10))\n",
    "mynet.add(Activation('softmax'))\n",
    "\n",
    "#stochastic gradient descent \n",
    "sgd = SGD(lr = 0.1,decay = 1e-6)\n",
    "mynet.compile(loss = 'mean_squared_error',optimizer = sgd , metrics = ['accuracy'])\n",
    "log = mynet.fit(train_data,train_label,batch_size = 10,epochs = 30,verbose = 1)\n"
   ]
  },
  {
   "cell_type": "code",
   "execution_count": 5,
   "metadata": {
    "collapsed": false
   },
   "outputs": [
    {
     "name": "stdout",
     "output_type": "stream",
     "text": [
      "0.910299993098\n"
     ]
    }
   ],
   "source": [
    "score = mynet.evaluate(test_data,test_label,batch_size=10,verbose = 0)\n",
    "print(score[1])"
   ]
  },
  {
   "cell_type": "code",
   "execution_count": 6,
   "metadata": {
    "collapsed": false
   },
   "outputs": [],
   "source": [
    "import matplotlib.pyplot as plt\n",
    "\n",
    "plt.plot(log.history['acc'],color = 'blue')\n",
    "\n",
    "plt.xlabel('epochs')\n",
    "plt.ylabel('accuracy')\n",
    "plt.title('variation of accuracy with epoch')\n",
    "plt.show()\n",
    "\n"
   ]
  },
  {
   "cell_type": "code",
   "execution_count": null,
   "metadata": {
    "collapsed": true
   },
   "outputs": [],
   "source": []
  }
 ],
 "metadata": {
  "anaconda-cloud": {},
  "kernelspec": {
   "display_name": "Python [Root]",
   "language": "python",
   "name": "Python [Root]"
  },
  "language_info": {
   "codemirror_mode": {
    "name": "ipython",
    "version": 3
   },
   "file_extension": ".py",
   "mimetype": "text/x-python",
   "name": "python",
   "nbconvert_exporter": "python",
   "pygments_lexer": "ipython3",
   "version": "3.5.2"
  }
 },
 "nbformat": 4,
 "nbformat_minor": 0
}
